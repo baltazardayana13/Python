{
  "nbformat": 4,
  "nbformat_minor": 0,
  "metadata": {
    "colab": {
      "provenance": [],
      "authorship_tag": "ABX9TyMu3BbVcYjI7J4mtC64jYYV",
      "include_colab_link": true
    },
    "kernelspec": {
      "name": "python3",
      "display_name": "Python 3"
    },
    "language_info": {
      "name": "python"
    }
  },
  "cells": [
    {
      "cell_type": "markdown",
      "metadata": {
        "id": "view-in-github",
        "colab_type": "text"
      },
      "source": [
        "<a href=\"https://colab.research.google.com/github/baltazardayana13/Python/blob/main/evaluaciones/Practica_4.ipynb\" target=\"_parent\"><img src=\"https://colab.research.google.com/assets/colab-badge.svg\" alt=\"Open In Colab\"/></a>"
      ]
    },
    {
      "cell_type": "markdown",
      "source": [
        "## **4.1 Ejercicio 1(1.2 puntos)**\n",
        "\n",
        "Realizar un programa que inicialice una lista con 10 valores aleatorios (del 1 al 10) y posteriormente muestre en pantalla cada elemento de la lista junto con su cuadrado y su cubo. Respuesta:"
      ],
      "metadata": {
        "id": "JECpHNZUsoAl"
      }
    },
    {
      "cell_type": "code",
      "source": [],
      "metadata": {
        "id": "3J3hh_KasszE"
      },
      "execution_count": null,
      "outputs": []
    },
    {
      "cell_type": "markdown",
      "source": [
        "# **4.2 Ejercicio 2 (1.2 puntos)**\n",
        "Crea una lista e inicializarla con 5 cadenas de caracteres leídas por teclado. Copia los elementos de la lista en otra lista pero en orden inverso, y muestra sus elementos por la pantalla."
      ],
      "metadata": {
        "id": "uyJUzkkJsv88"
      }
    },
    {
      "cell_type": "code",
      "source": [],
      "metadata": {
        "id": "0XE7Bhzlsyx0"
      },
      "execution_count": null,
      "outputs": []
    },
    {
      "cell_type": "markdown",
      "source": [
        "## **4.3 Ejercicio 3 (1.2 puntos)**\n",
        "Se quiere realizar un programa que lea por teclado las 5 notas obtenidas por un alumno (comprendidas entre 0 y 10). A continuación debe mostrar todas las notas, la nota media, la nota más alta que ha sacado y la menor."
      ],
      "metadata": {
        "id": "AkeoXFOHszJE"
      }
    },
    {
      "cell_type": "code",
      "source": [],
      "metadata": {
        "id": "kxA-3_qOszas"
      },
      "execution_count": null,
      "outputs": []
    },
    {
      "cell_type": "markdown",
      "source": [
        "# **4.4 Ejercicio 4 (1.2 puntos)**\n",
        "Codifica un programa en python que nos permita guardar los nombres de los alumnos de una clase y las notas que han obtenido. Cada alumno puede tener distinta cantidad de notas. Guarda la información en un diccionario cuya claves serán los nombres de los alumnos y los valores serán listados con las notas de cada alumno.\n",
        "\n",
        "El programa pedirá el número de alumnos que vamos a introducir, pedirá su nombre e irá pidiendo sus notas hasta que introduzcamos un número negativo. Al final el programa nos mostrará la lista de alumnos y la nota media obtenida por cada uno de ellos. Nota: si se introduce el nombre de un alumno que ya existe el programa nos dará un error."
      ],
      "metadata": {
        "id": "p6D1Vq3yszvE"
      }
    },
    {
      "cell_type": "code",
      "source": [],
      "metadata": {
        "id": "JjMsr5Avs0Bd"
      },
      "execution_count": null,
      "outputs": []
    },
    {
      "cell_type": "markdown",
      "source": [
        "# **4.5 Ejercicio 5 (1.2 puntos)**\n",
        "Crea una tupla con los meses del año, pide números al usuario, si el número está entre 1 y la longitud máxima de la tupla, muestra el contenido de esa posición sino muestra un mensaje de error. El programa termina cuando el usuario introduce un cero."
      ],
      "metadata": {
        "id": "M3r3Lbz3s0kM"
      }
    },
    {
      "cell_type": "code",
      "source": [],
      "metadata": {
        "id": "UMhDwaxKs02c"
      },
      "execution_count": null,
      "outputs": []
    }
  ]
}