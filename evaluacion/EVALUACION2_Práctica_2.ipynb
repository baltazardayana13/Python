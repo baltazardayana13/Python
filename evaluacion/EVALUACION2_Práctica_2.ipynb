{
  "nbformat": 4,
  "nbformat_minor": 0,
  "metadata": {
    "colab": {
      "provenance": [],
      "authorship_tag": "ABX9TyMIr7nEVXY3E7PUBv6s1WrM",
      "include_colab_link": true
    },
    "kernelspec": {
      "name": "python3",
      "display_name": "Python 3"
    },
    "language_info": {
      "name": "python"
    }
  },
  "cells": [
    {
      "cell_type": "markdown",
      "metadata": {
        "id": "view-in-github",
        "colab_type": "text"
      },
      "source": [
        "<a href=\"https://colab.research.google.com/github/baltazardayana13/Python/blob/main/evaluacion/EVALUACION2_Pr%C3%A1ctica_2.ipynb\" target=\"_parent\"><img src=\"https://colab.research.google.com/assets/colab-badge.svg\" alt=\"Open In Colab\"/></a>"
      ]
    },
    {
      "cell_type": "markdown",
      "source": [
        "### **2 Práctica Números enteros y reales.**\n",
        "\n",
        "Realiza los ejercicios de acuerdo a las indicaciones\n",
        "\n",
        "# 2.1 Ejercicio 1 (1.5 puntos)\n",
        "\n",
        "Escribir un programa que convierta un valor dado en grados Fahrenheit a grados Celsius.\n"
      ],
      "metadata": {
        "id": "nj65U14JZf3r"
      }
    },
    {
      "cell_type": "markdown",
      "source": [],
      "metadata": {
        "id": "Nr2Jki8pZodT"
      }
    },
    {
      "cell_type": "code",
      "source": [
        "print(\"Este es un programa para convertir grados Fahrenheit a grados Celsius.\")\n",
        "grados=float(input(\"Ingrese los grados Fahreheit \"))\n",
        "conver=(grados-32)*(5/9)\n",
        "print(grados,\"Fahrenheit son\",conver,\"Celsius\")"
      ],
      "metadata": {
        "colab": {
          "base_uri": "https://localhost:8080/"
        },
        "id": "MQw1BC5yZlOi",
        "outputId": "b42c40ea-1f25-4219-e73b-85a52fae7075"
      },
      "execution_count": 5,
      "outputs": [
        {
          "output_type": "stream",
          "name": "stdout",
          "text": [
            "Este es un programa para convertir grados Fahrenheit a grados Celsius.\n",
            "Ingrese los grados Fahreheit 32\n",
            "32.0 Fahrenheit son 0.0 Celsius\n"
          ]
        }
      ]
    },
    {
      "cell_type": "markdown",
      "source": [
        "## **2.2 Ejercicio 2 (1.5 puntos)**\n",
        "\n",
        "Dados dos números, mostrar la suma, resta, división y multiplicación de ambos.\n",
        "\n"
      ],
      "metadata": {
        "id": "cfSWWjJtZ0s9"
      }
    },
    {
      "cell_type": "code",
      "source": [
        "print(\"Este es un programa para hacer operaciones basicas de dos numeros\")\n",
        "num1=float(input(\"Ingrese el primer numero\"))\n",
        "num2=float(input(\"Ingrese el segundo numero\"))\n",
        "sum=num1+num2\n",
        "rest=num1-num2\n",
        "div=num1/num2\n",
        "mult=num1*num2\n",
        "print(\"La suma de los dos números es:\",sum)\n",
        "print(\"La resta de los dos números es:\",rest)\n",
        "print(\"La division de los dos números es:\",div)\n",
        "print(\"La multiplicación de los dos números es:\",mult)"
      ],
      "metadata": {
        "colab": {
          "base_uri": "https://localhost:8080/"
        },
        "id": "_dVfIUVpazEM",
        "outputId": "beeae167-c3ea-496f-85af-cf529e13b2ae"
      },
      "execution_count": 6,
      "outputs": [
        {
          "output_type": "stream",
          "name": "stdout",
          "text": [
            "Este es un programa para hacer operaciones basicas de dos numeros\n",
            "Ingrese el primer numero20\n",
            "Ingrese el segundo numero2\n",
            "La suma de los dos números es: 22.0\n",
            "La resta de los dos números es: 18.0\n",
            "La division de los dos números es: 10.0\n",
            "La multiplicación de los dos números es: 40.0\n"
          ]
        }
      ]
    },
    {
      "cell_type": "markdown",
      "source": [
        "# **2.3 Ejercicio 3 (1.5 puntos)**\n",
        "\n",
        "Calcular el perímetro y área de un rectángulo dada su base y su altura. Respuesta:"
      ],
      "metadata": {
        "id": "tkigd1gUazhb"
      }
    },
    {
      "cell_type": "code",
      "source": [
        "print(\"Este es un programa para calcular el perímetro de un rectangulo\")\n",
        "base=float(input(\"Ingrese la base del rectangulo:\"))\n",
        "altura=float(input(\"Ingrese la altura del rectangulo:\"))\n",
        "area=base*altura\n",
        "perimetro=(2*base)+(2*altura)\n",
        "print(\"El area del rectangulo es:\",area)\n",
        "print(\"el perimetro del rectangulo es:\",perimetro)"
      ],
      "metadata": {
        "colab": {
          "base_uri": "https://localhost:8080/"
        },
        "id": "mOYYiv-ia3Dr",
        "outputId": "168b7482-176d-45f2-d315-b4db73d7bb45"
      },
      "execution_count": 8,
      "outputs": [
        {
          "output_type": "stream",
          "name": "stdout",
          "text": [
            "Este es un programa para calcular el perímetro de un rectangulo\n",
            "Ingrese la base del rectangulo:3\n",
            "Ingrese la altura del rectangulo:2\n",
            "El area del rectangulo es: 6.0\n",
            "el perimetro del rectangulo es: 10.0\n"
          ]
        }
      ]
    }
  ]
}